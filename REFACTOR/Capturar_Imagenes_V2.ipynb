{
 "cells": [
  {
   "cell_type": "code",
   "execution_count": 1,
   "metadata": {},
   "outputs": [],
   "source": [
    "#imports\n",
    "import cv2\n",
    "import uuid\n",
    "import os"
   ]
  },
  {
   "cell_type": "code",
   "execution_count": 20,
   "metadata": {},
   "outputs": [],
   "source": [
    "#Init Webcam\n",
    "cap = cv2.VideoCapture(0)\n",
    "result = True\n",
    "\n",
    "while result:\n",
    "    obtain, frame = cap.read()\n",
    "\n",
    "    # Simulating mirror image\n",
    "    frame = cv2.flip(frame, 1)\n",
    "        \n",
    "\n",
    "    # Coordinates of the Region of Interest\n",
    "    x1 = int(0.5*frame.shape[1])\n",
    "    y1 = 10\n",
    "    x2 = frame.shape[1]-10\n",
    "    y2 = int(0.5*frame.shape[1])\n",
    "    # Drawing the Region of Interest\n",
    "    # The increment/decrement by 1 is to compensate for the bounding box\n",
    "    cv2.rectangle(frame, (x1-1, y1-1), (x2+1, y2+1), (255,0,0) ,1)\n",
    "    # Extracting the Region of Interest\n",
    "    roi = frame[y1:y2, x1:x2]\n",
    "    frame = frame[y1:y2, x1:x2]\n",
    "    #Para cambiar el tamaño de la ventana del roi modificar los ultimos dos numeros\n",
    "    roi = cv2.resize(roi, (500, 500)) \n",
    "    #frame = cv2.resize(frame, (1024,1024))\n",
    "     \n",
    "    #mostrar camara normal\n",
    "    cv2.imshow(\"Frame\", frame)\n",
    "        \n",
    "    # do the processing after capturing the image!\n",
    "    roi = cv2.cvtColor(roi, cv2.COLOR_BGR2GRAY)\n",
    "    _, roi = cv2.threshold(roi, 120, 255, cv2.THRESH_BINARY)\n",
    "    #Mostrar ROI\n",
    "    cv2.imshow(\"ROI\", roi)\n",
    "\n",
    "    if cv2.waitKey(1) == ord('c'):\n",
    "        #Image with no filter\n",
    "        pathNoFilter = 'C:/Users/Yulisa/Desktop/Imagenes/SinFiltro'\n",
    "        image_name = str(uuid.uuid4()) + \".png\"\n",
    "        cv2.imwrite(os.path.join(pathNoFilter , image_name), frame[y1:y2, x1:x2])\n",
    "        print(\"Foto guardada sin filtro {}\".format(image_name))\n",
    "\n",
    "        #Image with filter\n",
    "        pathFilter = 'C:/Users/Yulisa/Desktop/Imagenes/ConFiltro'\n",
    "        cv2.imwrite(os.path.join(pathFilter , image_name), roi)\n",
    "        print(\"Foto guardada con filtro {}\".format(image_name))\n",
    "        \n",
    "        result = True\n",
    "\n",
    "    interrupt = cv2.waitKey(10)\n",
    "    if interrupt & 0xFF == 27: # esc key\n",
    "        result = False\n",
    "\n",
    "cap.release()\n",
    "cv2.destroyAllWindows()\n"
   ]
  },
  {
   "cell_type": "code",
   "execution_count": null,
   "metadata": {},
   "outputs": [],
   "source": []
  }
 ],
 "metadata": {
  "kernelspec": {
   "display_name": "Python 3",
   "language": "python",
   "name": "python3"
  },
  "language_info": {
   "codemirror_mode": {
    "name": "ipython",
    "version": 3
   },
   "file_extension": ".py",
   "mimetype": "text/x-python",
   "name": "python",
   "nbconvert_exporter": "python",
   "pygments_lexer": "ipython3",
   "version": "3.8.3"
  }
 },
 "nbformat": 4,
 "nbformat_minor": 4
}
