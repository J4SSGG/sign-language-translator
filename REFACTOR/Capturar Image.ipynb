{
 "cells": [
  {
   "cell_type": "markdown",
   "metadata": {},
   "source": [
    "# Cargar Modelo"
   ]
  },
  {
   "cell_type": "code",
   "execution_count": 1,
   "metadata": {},
   "outputs": [
    {
     "name": "stderr",
     "output_type": "stream",
     "text": [
      "Using TensorFlow backend.\n"
     ]
    }
   ],
   "source": [
    "import matplotlib.pyplot as plt\n",
    "import numpy as np\n",
    "import os\n",
    "import PIL\n",
    "import cv2\n",
    "import math\n",
    "from sklearn.preprocessing import normalize\n",
    "\n",
    "import keras\n",
    "from keras import preprocessing\n",
    "from keras import layers\n",
    "from keras.models import Sequential\n",
    "\n"
   ]
  },
  {
   "cell_type": "markdown",
   "metadata": {},
   "source": [
    "# Load Model"
   ]
  },
  {
   "cell_type": "code",
   "execution_count": 5,
   "metadata": {},
   "outputs": [
    {
     "name": "stdout",
     "output_type": "stream",
     "text": [
      "Model: \"sequential_1\"\n",
      "_________________________________________________________________\n",
      "Layer (type)                 Output Shape              Param #   \n",
      "=================================================================\n",
      "conv2d_1 (Conv2D)            (None, 48, 48, 32)        320       \n",
      "_________________________________________________________________\n",
      "max_pooling2d_1 (MaxPooling2 (None, 24, 24, 32)        0         \n",
      "_________________________________________________________________\n",
      "conv2d_2 (Conv2D)            (None, 22, 22, 32)        9248      \n",
      "_________________________________________________________________\n",
      "max_pooling2d_2 (MaxPooling2 (None, 11, 11, 32)        0         \n",
      "_________________________________________________________________\n",
      "conv2d_3 (Conv2D)            (None, 9, 9, 64)          18496     \n",
      "_________________________________________________________________\n",
      "max_pooling2d_3 (MaxPooling2 (None, 5, 5, 64)          0         \n",
      "_________________________________________________________________\n",
      "flatten_1 (Flatten)          (None, 1600)              0         \n",
      "_________________________________________________________________\n",
      "dense_1 (Dense)              (None, 64)                102464    \n",
      "_________________________________________________________________\n",
      "dropout_1 (Dropout)          (None, 64)                0         \n",
      "_________________________________________________________________\n",
      "dense_2 (Dense)              (None, 36)                2340      \n",
      "=================================================================\n",
      "Total params: 132,868\n",
      "Trainable params: 132,868\n",
      "Non-trainable params: 0\n",
      "_________________________________________________________________\n"
     ]
    }
   ],
   "source": [
    "new_model = keras.models.load_model('cnn_model_keras2.h5')\n",
    "new_model.summary()"
   ]
  },
  {
   "cell_type": "markdown",
   "metadata": {},
   "source": [
    "# Clasificar imagen"
   ]
  },
  {
   "cell_type": "code",
   "execution_count": 16,
   "metadata": {},
   "outputs": [],
   "source": [
    "class_names = ['A', 'B', 'C', 'D', 'E', 'F', 'G', 'H', 'I', 'J', 'K', 'L', 'M', 'N', 'O', 'P', 'Q', 'R', 'S', 'T', 'U', 'V', 'W', 'X', 'Y', 'Z', '0','1', '2', '3', '4', '5', '6', '7', '8', '9', '10']\n",
    "\n",
    "def translate_prediction(prediction):\n",
    "    if(len(class_names) >= int(prediction)):\n",
    "        return class_names[int(prediction)]\n",
    "    return \"\"\n",
    "\n",
    "def test_modelo(image):\n",
    "    img_height = 50\n",
    "    img_width = 50\n",
    "\n",
    "    img = cv2.resize(image, (img_width, img_height))\n",
    "    img = np.array(img, dtype=np.float32)    \n",
    "    cv2.imwrite(os.path.join(\"\" , \"reshaped.jpg\"), img)\n",
    "    img = np.reshape(img, (1, img_width, img_height, 1))\n",
    "    predictions = new_model.predict(img)[0]\n",
    "\n",
    "#     score = predictions / np.linalg.norm(predictions)\n",
    "    score = normalize(predictions[:,np.newaxis], axis=0).ravel()\n",
    "    prediction = np.argmax(score)\n",
    "    print(len(predictions), prediction )\n",
    "    return \"This image most likely belongs to {} (index: {}) with a {:.2f} percent confidence.\".format(translate_prediction(prediction), prediction, 100 * np.max(score))\n",
    "    "
   ]
  },
  {
   "cell_type": "markdown",
   "metadata": {},
   "source": [
    "# Capturar Imagen"
   ]
  },
  {
   "cell_type": "code",
   "execution_count": 19,
   "metadata": {
    "scrolled": true
   },
   "outputs": [
    {
     "name": "stdout",
     "output_type": "stream",
     "text": [
      "36 34\n",
      "This image most likely belongs to 8 (index: 34) with a 100.00 percent confidence.\n",
      "36 34\n",
      "This image most likely belongs to 8 (index: 34) with a 99.99 percent confidence.\n",
      "36 10\n",
      "This image most likely belongs to K (index: 10) with a 100.00 percent confidence.\n",
      "36 14\n",
      "This image most likely belongs to O (index: 14) with a 100.00 percent confidence.\n",
      "36 14\n",
      "This image most likely belongs to O (index: 14) with a 100.00 percent confidence.\n",
      "36 14\n",
      "This image most likely belongs to O (index: 14) with a 100.00 percent confidence.\n",
      "36 18\n",
      "This image most likely belongs to S (index: 18) with a 100.00 percent confidence.\n",
      "36 20\n",
      "This image most likely belongs to U (index: 20) with a 99.96 percent confidence.\n",
      "36 27\n",
      "This image most likely belongs to 1 (index: 27) with a 100.00 percent confidence.\n",
      "36 27\n",
      "This image most likely belongs to 1 (index: 27) with a 100.00 percent confidence.\n",
      "36 27\n",
      "This image most likely belongs to 1 (index: 27) with a 100.00 percent confidence.\n"
     ]
    }
   ],
   "source": [
    "#Init Webcam\n",
    "cap = cv2.VideoCapture(0)\n",
    "result = True\n",
    "\n",
    "while result:\n",
    "    obtain, frame = cap.read()\n",
    "\n",
    "    # Simulating mirror image\n",
    "    frame = cv2.flip(frame, 1)\n",
    "        \n",
    "\n",
    "    # Coordinates of the Region of Interest\n",
    "    x1 = int(0.5*frame.shape[1])\n",
    "    y1 = 10\n",
    "    x2 = frame.shape[1]-10\n",
    "    y2 = int(0.5*frame.shape[1])\n",
    "    # Drawing the Region of Interest\n",
    "    # The increment/decrement by 1 is to compensate for the bounding box\n",
    "    cv2.rectangle(frame, (x1-1, y1-1), (x2+1, y2+1), (255,0,0) ,1)\n",
    "    # Extracting the Region of Interest\n",
    "    roi = frame[y1:y2, x1:x2]\n",
    "    frame = frame[y1:y2, x1:x2]\n",
    "    #Para cambiar el tamaño de la ventana del roi modificar los ultimos dos numeros\n",
    "    roi = cv2.resize(roi, (500, 500)) \n",
    "    #frame = cv2.resize(frame, (1024,1024))\n",
    "     \n",
    "    #mostrar camara normal\n",
    "    cv2.imshow(\"Frame\", frame)\n",
    "        \n",
    "    # do the processing after capturing the image!\n",
    "    roi = cv2.cvtColor(roi, cv2.COLOR_BGR2GRAY)\n",
    "    _, roi = cv2.threshold(roi, 100, 255, cv2.THRESH_BINARY)\n",
    "    \n",
    "    #Mostrar ROI\n",
    "#     roi = cv2.bitwise_not(roi)\n",
    "    cv2.imshow(\"ROI\", roi)\n",
    "    \n",
    "\n",
    "    if cv2.waitKey(1) == ord('c'):\n",
    "        #Image with no filter\n",
    "#         pathNoFilter = 'C:/Users/Yulisa/Desktop/Imagenes/SinFiltro'\n",
    "        image_name = \"image_sample.jpg\"\n",
    "#         cv2.imwrite(os.path.join(pathNoFilter , image_name), frame[y1:y2, x1:x2])\n",
    "#         print(\"Foto guardada sin filtro {}\".format(image_name))\n",
    "\n",
    "        #Image with filter\n",
    "        cv2.imwrite(os.path.join(\"\" , image_name), roi)\n",
    "#         print(\"Foto guardada con filtro {}\".format(image_name))\n",
    "        print(test_modelo(roi))\n",
    "        \n",
    "        result = True\n",
    "\n",
    "    interrupt = cv2.waitKey(1)\n",
    "    if interrupt & 0xFF == 27: # esc key\n",
    "        result = False\n",
    "\n",
    "cap.release()\n",
    "cv2.destroyAllWindows()"
   ]
  },
  {
   "cell_type": "code",
   "execution_count": null,
   "metadata": {},
   "outputs": [],
   "source": []
  },
  {
   "cell_type": "code",
   "execution_count": null,
   "metadata": {},
   "outputs": [],
   "source": []
  },
  {
   "cell_type": "code",
   "execution_count": null,
   "metadata": {},
   "outputs": [],
   "source": []
  }
 ],
 "metadata": {
  "kernelspec": {
   "display_name": "Python 3",
   "language": "python",
   "name": "python3"
  },
  "language_info": {
   "codemirror_mode": {
    "name": "ipython",
    "version": 3
   },
   "file_extension": ".py",
   "mimetype": "text/x-python",
   "name": "python",
   "nbconvert_exporter": "python",
   "pygments_lexer": "ipython3",
   "version": "3.6.5"
  }
 },
 "nbformat": 4,
 "nbformat_minor": 4
}
